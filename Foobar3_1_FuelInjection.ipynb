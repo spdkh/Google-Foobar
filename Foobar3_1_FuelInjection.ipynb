{
  "nbformat": 4,
  "nbformat_minor": 0,
  "metadata": {
    "colab": {
      "provenance": [],
      "authorship_tag": "ABX9TyPOGvtLnhT3n/W6Tj5vbSue",
      "include_colab_link": true
    },
    "kernelspec": {
      "name": "python3",
      "display_name": "Python 3"
    },
    "language_info": {
      "name": "python"
    }
  },
  "cells": [
    {
      "cell_type": "markdown",
      "metadata": {
        "id": "view-in-github",
        "colab_type": "text"
      },
      "source": [
        "<a href=\"https://colab.research.google.com/github/spdkh/Google-Foobar/blob/main/Foobar3_1_FuelInjection.ipynb\" target=\"_parent\"><img src=\"https://colab.research.google.com/assets/colab-badge.svg\" alt=\"Open In Colab\"/></a>"
      ]
    },
    {
      "cell_type": "markdown",
      "source": [
        "Fuel Injection Perfection\n",
        "Commander Lambda has asked for your help to refine the automatic quantum antimatter fuel injection system for the LAMBCHOP doomsday device. It's a great chance for you to get a closer look at the LAMBCHOP -- and maybe sneak in a bit of sabotage while you're at it -- so you took the job gladly.\n",
        "\n",
        "Quantum antimatter fuel comes in small pellets, which is convenient since the many moving parts of the LAMBCHOP each need to be fed fuel one pellet at a time. However, minions dump pellets in bulk into the fuel intake. You need to figure out the most efficient way to sort and shift the pellets down to a single pellet at a time.\n",
        "\n",
        "The fuel control mechanisms have three operations:\n",
        "\n",
        "1) Add one fuel pellet 2) Remove one fuel pellet 3) Divide the entire group of fuel pellets by 2 (due to the destructive energy released when a quantum antimatter pellet is cut in half, the safety controls will only allow this to happen if there is an even number of pellets)\n",
        "\n",
        "Write a function called solution(n) which takes a positive integer as a string and returns the minimum number of operations needed to transform the number of pellets to 1. The fuel intake control panel can only display a number up to 309 digits long, so there won't ever be more pellets than you can express in that many digits.\n",
        "\n",
        "For example: solution(4) returns 2: 4 -> 2 -> 1 solution(15) returns 5: 15 -> 16 -> 8 -> 4 -> 2 -> 1 Quantum antimatter fuel comes in small pellets, which is convenient since the many moving parts of the LAMBCHOP each need to be fed fuel one pellet at a time. However, minions dump pellets in bulk into the fuel intake. You need to figure out the most efficient way to sort and shift the pellets down to a single pellet at a time.\n",
        "\n",
        "The fuel control mechanisms have three operations:\n",
        "\n",
        "1) Add one fuel pellet 2) Remove one fuel pellet 3) Divide the entire group of fuel pellets by 2 (due to the destructive energy released when a quantum antimatter pellet is cut in half, the safety controls will only allow this to happen if there is an even number of pellets)\n",
        "\n",
        "Write a function called solution(n) which takes a positive integer as a string and returns the minimum number of operations needed to transform the number of pellets to 1. The fuel intake control panel can only display a number up to 309 digits long, so there won't ever be more pellets than you can express in that many digits.\n",
        "\n",
        "For example: solution(4) returns 2: 4 -> 2 -> 1 solution(15) returns 5: 15 -> 16 -> 8 -> 4 -> 2 -> 1\n",
        "\n",
        "Languages\n",
        "To provide a Python solution, edit solution.py To provide a Java solution, edit Solution.java\n",
        "\n",
        "Test cases\n",
        "Your code should pass the following test cases. Note that it may also be run against hidden test cases not shown here.\n",
        "\n",
        "-- Python cases -- Input: solution.solution('15') Output: 5\n",
        "\n",
        "Input: solution.solution('4') Output: 2\n",
        "\n",
        "-- Java cases -- Input: Solution.solution('4') Output: 2\n",
        "\n",
        "Input: Solution.solution('15') Output: 5"
      ],
      "metadata": {
        "id": "TYP6paQKPSAl"
      }
    },
    {
      "cell_type": "code",
      "execution_count": null,
      "metadata": {
        "id": "5-QChxs-PJ2-"
      },
      "outputs": [],
      "source": [
        "def solution(n):\n",
        "    n = int(n)\n",
        "    bin_n = bin(n)\n",
        "    cnt = 0\n",
        "    \n",
        "    while True:\n",
        "        if bin_n == '0b1':\n",
        "            return cnt\n",
        "\n",
        "        if bin_n[-1] == '1':\n",
        "            cnt += 1\n",
        "            \n",
        "            remove, rm0s = count_zeros(bin(int(bin_n, 2) - 1)[:-1], 0)\n",
        "            add, add0s = count_zeros(bin(int(bin_n, 2) + 1)[:-1], 0)\n",
        "            if rm0s >= add0s or bin_n[:-1] == '0b1':\n",
        "                bin_n = bin(int(bin_n, 2) - 1)\n",
        "            else:\n",
        "                bin_n = bin(int(bin_n, 2) + 1)\n",
        "\n",
        "        bin_n, cnt = count_zeros(bin_n, cnt)\n",
        "    \n",
        "def count_zeros(a, cnt):\n",
        "    # print('counting')\n",
        "    # print(a)\n",
        "    while a[-1] != '1':\n",
        "        cnt += 1\n",
        "        a = a[:-1]\n",
        "    return a, cnt\n"
      ]
    },
    {
      "cell_type": "code",
      "source": [
        "for n in range(1, 20):\n",
        "    n = str(n)\n",
        "    print(n, solution(n), sep='\\t')"
      ],
      "metadata": {
        "colab": {
          "base_uri": "https://localhost:8080/"
        },
        "id": "SIBur226QnF2",
        "outputId": "9c947758-0eda-4e73-cc11-d17160aa76bc"
      },
      "execution_count": null,
      "outputs": [
        {
          "output_type": "stream",
          "name": "stdout",
          "text": [
            "1\t0\n",
            "2\t1\n",
            "3\t2\n",
            "4\t2\n",
            "5\t3\n",
            "6\t3\n",
            "7\t4\n",
            "8\t3\n",
            "9\t4\n",
            "10\t4\n",
            "11\t5\n",
            "12\t4\n",
            "13\t5\n",
            "14\t5\n",
            "15\t5\n",
            "16\t4\n",
            "17\t5\n",
            "18\t5\n",
            "19\t6\n"
          ]
        }
      ]
    },
    {
      "cell_type": "code",
      "source": [],
      "metadata": {
        "id": "cQz103w1RHxe"
      },
      "execution_count": null,
      "outputs": []
    }
  ]
}