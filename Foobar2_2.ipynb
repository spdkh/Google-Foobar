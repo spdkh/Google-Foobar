{
  "nbformat": 4,
  "nbformat_minor": 0,
  "metadata": {
    "colab": {
      "provenance": [],
      "authorship_tag": "ABX9TyPU5CtR1OoeS7Wml3LYbTJk",
      "include_colab_link": true
    },
    "kernelspec": {
      "name": "python3",
      "display_name": "Python 3"
    },
    "language_info": {
      "name": "python"
    }
  },
  "cells": [
    {
      "cell_type": "markdown",
      "metadata": {
        "id": "view-in-github",
        "colab_type": "text"
      },
      "source": [
        "<a href=\"https://colab.research.google.com/github/spdkh/Google-Foobar/blob/main/Foobar2_2.ipynb\" target=\"_parent\"><img src=\"https://colab.research.google.com/assets/colab-badge.svg\" alt=\"Open In Colab\"/></a>"
      ]
    },
    {
      "cell_type": "markdown",
      "source": [
        "You need to pass a message to the bunny workers, but to avoid detection, the code you agreed to use is... obscure, to say the least. The bunnies are given food on standard-issue plates that are stamped with the numbers 0-9 for easier sorting, and you need to combine sets of plates to create the numbers in the code. The signal that a number is part of the code is that it is divisible by 3. You can do smaller numbers like 15 and 45 easily, but bigger numbers like 144 and 414 are a little trickier. Write a program to help yourself quickly create large numbers for use in the code, given a limited number of plates to work with.\n",
        "\n",
        "You have L, a list containing some digits (0 to 9). Write a function solution(L) which finds the largest number that can be made from some or all of these digits and is divisible by 3. If it is not possible to make such a number, return 0 as the solution. L will contain anywhere from 1 to 9 digits.  The same digit may appear multiple times in the list, but each element in the list may only be used once.\n",
        "\n",
        "Languages\n",
        "=========\n",
        "\n",
        "To provide a Java solution, edit Solution.java\n",
        "To provide a Python solution, edit solution.py\n",
        "\n",
        "Test cases\n",
        "==========\n",
        "Your code should pass the following test cases.\n",
        "Note that it may also be run against hidden test cases not shown here.\n",
        "\n",
        "-- Java cases --\n",
        "Input:\n",
        "Solution.solution({3, 1, 4, 1})\n",
        "Output:\n",
        "    4311\n",
        "\n",
        "Input:\n",
        "Solution.solution({3, 1, 4, 1, 5, 9})\n",
        "Output:\n",
        "    94311\n",
        "\n",
        "-- Python cases --\n",
        "Input:\n",
        "solution.solution([3, 1, 4, 1])\n",
        "Output:\n",
        "    4311\n",
        "\n",
        "Input:\n",
        "solution.solution([3, 1, 4, 1, 5, 9])\n",
        "Output:\n",
        "    94311\n",
        "\n",
        "Use verify [file] to test your solution and see how it does. When you are finished editing your code, use submit [file] to submit your answer. If your solution passes the test cases, it will be removed from your home folder."
      ],
      "metadata": {
        "id": "NiM8PymG7AT3"
      }
    },
    {
      "cell_type": "code",
      "source": [
        "import itertools \n",
        "\n",
        "def solution(l):\n",
        "    l.sort(reverse=True)\n",
        "    ids = range(len(l), 0, -1)\n",
        "    for subset_id in ids:\n",
        "        sub_ls = findsubsets(l, subset_id)\n",
        "        for sub_l in sub_ls:\n",
        "            sub_l = list(sub_l)\n",
        "            if not sum(sub_l) % 3:\n",
        "                return biggest3(sub_l)\n",
        "    return 0\n",
        "\n",
        "def biggest3(l):\n",
        "    l.sort(reverse=True)\n",
        "    return int(''.join(map(str, l)))\n",
        "\n",
        "\n",
        "def findsubsets(s, n):\n",
        "    return list(itertools.combinations(s, n))"
      ],
      "metadata": {
        "id": "AxBA35-t7CY8"
      },
      "execution_count": null,
      "outputs": []
    },
    {
      "cell_type": "code",
      "source": [
        "l = [1, 2, 4, 5, 7, 7, 7, 7, 7]\n",
        "solution(l)"
      ],
      "metadata": {
        "colab": {
          "base_uri": "https://localhost:8080/"
        },
        "id": "iHDnu9a68l_L",
        "outputId": "bb74fc47-1948-49ba-e043-1fed57cf5052"
      },
      "execution_count": null,
      "outputs": [
        {
          "output_type": "execute_result",
          "data": {
            "text/plain": [
              "77777541"
            ]
          },
          "metadata": {},
          "execution_count": 60
        }
      ]
    }
  ]
}